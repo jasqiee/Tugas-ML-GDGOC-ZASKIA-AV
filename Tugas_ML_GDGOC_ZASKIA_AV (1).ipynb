{
  "nbformat": 4,
  "nbformat_minor": 0,
  "metadata": {
    "colab": {
      "provenance": []
    },
    "kernelspec": {
      "name": "python3",
      "display_name": "Python 3"
    },
    "language_info": {
      "name": "python"
    }
  },
  "cells": [
    {
      "cell_type": "code",
      "source": [
        "import pandas as pd\n",
        "import matplotlib.pyplot as plt\n",
        "import seaborn as sns\n",
        "\n",
        "# Membaca dataset AMH 2015\n",
        "df_melek_huruf_2015 = pd.read_csv(\"Angka Melek Huruf 2015.csv\")\n",
        "\n",
        "# Membaca dataset APS 2015\n",
        "df_aps_2015 = pd.read_csv(\"Angka Partisipasi Sekolah 2015.csv\")\n",
        "\n",
        "# Menampilkan beberapa baris pertama dari masing-masing dataset\n",
        "print(\"Angka Melek Huruf 2015:\")\n",
        "print(df_melek_huruf_2015.head())\n",
        "\n",
        "print(\"\\nAngka Partisipasi Sekolah 2015:\")\n",
        "print(df_aps_2015.head())\n",
        "\n",
        "# Statistik deskriptif untuk dataset Melek Huruf\n",
        "print(\"\\nStatistik Angka Melek Huruf 2015:\")\n",
        "print(df_melek_huruf_2015.describe())\n",
        "\n",
        "# Statistik deskriptif untuk dataset Partisipasi Sekolah\n",
        "print(\"\\nStatistik Angka Partisipasi Sekolah 2015:\")\n",
        "print(df_aps_2015.describe())\n",
        "\n",
        "# Grafik Angka Melek Huruf\n",
        "plt.figure(figsize=(12, 6))\n",
        "\n",
        "# Urutkan data berdasarkan persentase untuk tampilan yang lebih rapi\n",
        "df_melek_huruf_2015_sorted = df_melek_huruf_2015.sort_values(by=\"persentase\", ascending=True)\n",
        "\n",
        "# Barplot untuk Angka Melek Huruf\n",
        "sns.barplot(y=df_melek_huruf_2015_sorted[\"Provinsi\"], x=df_melek_huruf_2015_sorted[\"persentase\"], palette=\"viridis\")\n",
        "plt.xlabel(\"Persentase Melek Huruf (%)\")\n",
        "plt.ylabel(\"Provinsi\")\n",
        "plt.title(\"Persentase Melek Huruf di Indonesia (2015)\")\n",
        "plt.show()\n",
        "\n",
        "# Grafik Angka Partisipasi Sekolah\n",
        "plt.figure(figsize=(14, 6))\n",
        "\n",
        "# Set index Provinsi dan plotkan bar chart untuk setiap jenjang pendidikan\n",
        "df_aps_2015.set_index(\"Provinsi\")[[\"SD\", \"SMP\", \"SMA\", \"PT\"]].plot(kind=\"bar\", figsize=(14, 6), colormap=\"coolwarm\")\n",
        "\n",
        "# Penambahan label dan judul untuk grafik\n",
        "plt.title(\"Angka Partisipasi Sekolah di Indonesia (2015)\")\n",
        "plt.ylabel(\"Persentase\")\n",
        "plt.xlabel(\"Provinsi\")\n",
        "plt.legend(title=\"Jenjang Pendidikan\")\n",
        "plt.tight_layout()  # Untuk memastikan layout tidak terpotong\n",
        "plt.show()\n"
      ],
      "metadata": {
        "colab": {
          "base_uri": "https://localhost:8080/",
          "height": 373
        },
        "id": "htZbQEDX-jVF",
        "outputId": "76fafd00-d9c8-49bc-9880-47f867efaa02"
      },
      "execution_count": null,
      "outputs": [
        {
          "output_type": "error",
          "ename": "FileNotFoundError",
          "evalue": "[Errno 2] No such file or directory: 'Angka Melek Huruf 2015.csv'",
          "traceback": [
            "\u001b[0;31m---------------------------------------------------------------------------\u001b[0m",
            "\u001b[0;31mFileNotFoundError\u001b[0m                         Traceback (most recent call last)",
            "\u001b[0;32m<ipython-input-1-c6c5786f0622>\u001b[0m in \u001b[0;36m<cell line: 0>\u001b[0;34m()\u001b[0m\n\u001b[1;32m      4\u001b[0m \u001b[0;34m\u001b[0m\u001b[0m\n\u001b[1;32m      5\u001b[0m \u001b[0;31m# Membaca dataset AMH 2015\u001b[0m\u001b[0;34m\u001b[0m\u001b[0;34m\u001b[0m\u001b[0m\n\u001b[0;32m----> 6\u001b[0;31m \u001b[0mdf_melek_huruf_2015\u001b[0m \u001b[0;34m=\u001b[0m \u001b[0mpd\u001b[0m\u001b[0;34m.\u001b[0m\u001b[0mread_csv\u001b[0m\u001b[0;34m(\u001b[0m\u001b[0;34m\"Angka Melek Huruf 2015.csv\"\u001b[0m\u001b[0;34m)\u001b[0m\u001b[0;34m\u001b[0m\u001b[0;34m\u001b[0m\u001b[0m\n\u001b[0m\u001b[1;32m      7\u001b[0m \u001b[0;34m\u001b[0m\u001b[0m\n\u001b[1;32m      8\u001b[0m \u001b[0;31m# Membaca dataset APS 2015\u001b[0m\u001b[0;34m\u001b[0m\u001b[0;34m\u001b[0m\u001b[0m\n",
            "\u001b[0;32m/usr/local/lib/python3.11/dist-packages/pandas/io/parsers/readers.py\u001b[0m in \u001b[0;36mread_csv\u001b[0;34m(filepath_or_buffer, sep, delimiter, header, names, index_col, usecols, dtype, engine, converters, true_values, false_values, skipinitialspace, skiprows, skipfooter, nrows, na_values, keep_default_na, na_filter, verbose, skip_blank_lines, parse_dates, infer_datetime_format, keep_date_col, date_parser, date_format, dayfirst, cache_dates, iterator, chunksize, compression, thousands, decimal, lineterminator, quotechar, quoting, doublequote, escapechar, comment, encoding, encoding_errors, dialect, on_bad_lines, delim_whitespace, low_memory, memory_map, float_precision, storage_options, dtype_backend)\u001b[0m\n\u001b[1;32m   1024\u001b[0m     \u001b[0mkwds\u001b[0m\u001b[0;34m.\u001b[0m\u001b[0mupdate\u001b[0m\u001b[0;34m(\u001b[0m\u001b[0mkwds_defaults\u001b[0m\u001b[0;34m)\u001b[0m\u001b[0;34m\u001b[0m\u001b[0;34m\u001b[0m\u001b[0m\n\u001b[1;32m   1025\u001b[0m \u001b[0;34m\u001b[0m\u001b[0m\n\u001b[0;32m-> 1026\u001b[0;31m     \u001b[0;32mreturn\u001b[0m \u001b[0m_read\u001b[0m\u001b[0;34m(\u001b[0m\u001b[0mfilepath_or_buffer\u001b[0m\u001b[0;34m,\u001b[0m \u001b[0mkwds\u001b[0m\u001b[0;34m)\u001b[0m\u001b[0;34m\u001b[0m\u001b[0;34m\u001b[0m\u001b[0m\n\u001b[0m\u001b[1;32m   1027\u001b[0m \u001b[0;34m\u001b[0m\u001b[0m\n\u001b[1;32m   1028\u001b[0m \u001b[0;34m\u001b[0m\u001b[0m\n",
            "\u001b[0;32m/usr/local/lib/python3.11/dist-packages/pandas/io/parsers/readers.py\u001b[0m in \u001b[0;36m_read\u001b[0;34m(filepath_or_buffer, kwds)\u001b[0m\n\u001b[1;32m    618\u001b[0m \u001b[0;34m\u001b[0m\u001b[0m\n\u001b[1;32m    619\u001b[0m     \u001b[0;31m# Create the parser.\u001b[0m\u001b[0;34m\u001b[0m\u001b[0;34m\u001b[0m\u001b[0m\n\u001b[0;32m--> 620\u001b[0;31m     \u001b[0mparser\u001b[0m \u001b[0;34m=\u001b[0m \u001b[0mTextFileReader\u001b[0m\u001b[0;34m(\u001b[0m\u001b[0mfilepath_or_buffer\u001b[0m\u001b[0;34m,\u001b[0m \u001b[0;34m**\u001b[0m\u001b[0mkwds\u001b[0m\u001b[0;34m)\u001b[0m\u001b[0;34m\u001b[0m\u001b[0;34m\u001b[0m\u001b[0m\n\u001b[0m\u001b[1;32m    621\u001b[0m \u001b[0;34m\u001b[0m\u001b[0m\n\u001b[1;32m    622\u001b[0m     \u001b[0;32mif\u001b[0m \u001b[0mchunksize\u001b[0m \u001b[0;32mor\u001b[0m \u001b[0miterator\u001b[0m\u001b[0;34m:\u001b[0m\u001b[0;34m\u001b[0m\u001b[0;34m\u001b[0m\u001b[0m\n",
            "\u001b[0;32m/usr/local/lib/python3.11/dist-packages/pandas/io/parsers/readers.py\u001b[0m in \u001b[0;36m__init__\u001b[0;34m(self, f, engine, **kwds)\u001b[0m\n\u001b[1;32m   1618\u001b[0m \u001b[0;34m\u001b[0m\u001b[0m\n\u001b[1;32m   1619\u001b[0m         \u001b[0mself\u001b[0m\u001b[0;34m.\u001b[0m\u001b[0mhandles\u001b[0m\u001b[0;34m:\u001b[0m \u001b[0mIOHandles\u001b[0m \u001b[0;34m|\u001b[0m \u001b[0;32mNone\u001b[0m \u001b[0;34m=\u001b[0m \u001b[0;32mNone\u001b[0m\u001b[0;34m\u001b[0m\u001b[0;34m\u001b[0m\u001b[0m\n\u001b[0;32m-> 1620\u001b[0;31m         \u001b[0mself\u001b[0m\u001b[0;34m.\u001b[0m\u001b[0m_engine\u001b[0m \u001b[0;34m=\u001b[0m \u001b[0mself\u001b[0m\u001b[0;34m.\u001b[0m\u001b[0m_make_engine\u001b[0m\u001b[0;34m(\u001b[0m\u001b[0mf\u001b[0m\u001b[0;34m,\u001b[0m \u001b[0mself\u001b[0m\u001b[0;34m.\u001b[0m\u001b[0mengine\u001b[0m\u001b[0;34m)\u001b[0m\u001b[0;34m\u001b[0m\u001b[0;34m\u001b[0m\u001b[0m\n\u001b[0m\u001b[1;32m   1621\u001b[0m \u001b[0;34m\u001b[0m\u001b[0m\n\u001b[1;32m   1622\u001b[0m     \u001b[0;32mdef\u001b[0m \u001b[0mclose\u001b[0m\u001b[0;34m(\u001b[0m\u001b[0mself\u001b[0m\u001b[0;34m)\u001b[0m \u001b[0;34m->\u001b[0m \u001b[0;32mNone\u001b[0m\u001b[0;34m:\u001b[0m\u001b[0;34m\u001b[0m\u001b[0;34m\u001b[0m\u001b[0m\n",
            "\u001b[0;32m/usr/local/lib/python3.11/dist-packages/pandas/io/parsers/readers.py\u001b[0m in \u001b[0;36m_make_engine\u001b[0;34m(self, f, engine)\u001b[0m\n\u001b[1;32m   1878\u001b[0m                 \u001b[0;32mif\u001b[0m \u001b[0;34m\"b\"\u001b[0m \u001b[0;32mnot\u001b[0m \u001b[0;32min\u001b[0m \u001b[0mmode\u001b[0m\u001b[0;34m:\u001b[0m\u001b[0;34m\u001b[0m\u001b[0;34m\u001b[0m\u001b[0m\n\u001b[1;32m   1879\u001b[0m                     \u001b[0mmode\u001b[0m \u001b[0;34m+=\u001b[0m \u001b[0;34m\"b\"\u001b[0m\u001b[0;34m\u001b[0m\u001b[0;34m\u001b[0m\u001b[0m\n\u001b[0;32m-> 1880\u001b[0;31m             self.handles = get_handle(\n\u001b[0m\u001b[1;32m   1881\u001b[0m                 \u001b[0mf\u001b[0m\u001b[0;34m,\u001b[0m\u001b[0;34m\u001b[0m\u001b[0;34m\u001b[0m\u001b[0m\n\u001b[1;32m   1882\u001b[0m                 \u001b[0mmode\u001b[0m\u001b[0;34m,\u001b[0m\u001b[0;34m\u001b[0m\u001b[0;34m\u001b[0m\u001b[0m\n",
            "\u001b[0;32m/usr/local/lib/python3.11/dist-packages/pandas/io/common.py\u001b[0m in \u001b[0;36mget_handle\u001b[0;34m(path_or_buf, mode, encoding, compression, memory_map, is_text, errors, storage_options)\u001b[0m\n\u001b[1;32m    871\u001b[0m         \u001b[0;32mif\u001b[0m \u001b[0mioargs\u001b[0m\u001b[0;34m.\u001b[0m\u001b[0mencoding\u001b[0m \u001b[0;32mand\u001b[0m \u001b[0;34m\"b\"\u001b[0m \u001b[0;32mnot\u001b[0m \u001b[0;32min\u001b[0m \u001b[0mioargs\u001b[0m\u001b[0;34m.\u001b[0m\u001b[0mmode\u001b[0m\u001b[0;34m:\u001b[0m\u001b[0;34m\u001b[0m\u001b[0;34m\u001b[0m\u001b[0m\n\u001b[1;32m    872\u001b[0m             \u001b[0;31m# Encoding\u001b[0m\u001b[0;34m\u001b[0m\u001b[0;34m\u001b[0m\u001b[0m\n\u001b[0;32m--> 873\u001b[0;31m             handle = open(\n\u001b[0m\u001b[1;32m    874\u001b[0m                 \u001b[0mhandle\u001b[0m\u001b[0;34m,\u001b[0m\u001b[0;34m\u001b[0m\u001b[0;34m\u001b[0m\u001b[0m\n\u001b[1;32m    875\u001b[0m                 \u001b[0mioargs\u001b[0m\u001b[0;34m.\u001b[0m\u001b[0mmode\u001b[0m\u001b[0;34m,\u001b[0m\u001b[0;34m\u001b[0m\u001b[0;34m\u001b[0m\u001b[0m\n",
            "\u001b[0;31mFileNotFoundError\u001b[0m: [Errno 2] No such file or directory: 'Angka Melek Huruf 2015.csv'"
          ]
        }
      ]
    },
    {
      "cell_type": "markdown",
      "source": [
        "Insight dari Visualisasi\n",
        "\t1.\tAngka Melek Huruf:\n",
        "\t•\tHampir semua provinsi memiliki tingkat melek huruf di atas 99%, menunjukkan bahwa secara nasional tingkat literasi sudah sangat tinggi.\n",
        "\t•\tVariasi antarprovinsi kecil, namun masih ada beberapa provinsi dengan angka sedikit lebih rendah dibanding yang lain.\n",
        "\t2.\tAngka Partisipasi Sekolah:\n",
        "\t•\tPartisipasi SD hampir mendekati 100% di semua provinsi, menunjukkan bahwa hampir semua anak usia SD sudah bersekolah.\n",
        "\t•\tPartisipasi SMP dan SMA mulai mengalami penurunan, dengan beberapa provinsi memiliki APS SMA di bawah 80%.\n",
        "\t•\tPartisipasi Perguruan Tinggi (PT) jauh lebih rendah dibanding jenjang lainnya, dengan angka berkisar 20-35% di berbagai provinsi.\n",
        "  \n",
        "Kesimpulan\n",
        "\t1.\tTingkat Melek Huruf di Indonesia sangat tinggi, namun perlu analisis lebih lanjut untuk mengetahui apakah ada faktor lain yang mempengaruhi kesenjangan antarprovinsi.\n",
        "\t2.\tTingkat Partisipasi Sekolah menurun seiring jenjang pendidikan yang lebih tinggi, terutama pada SMA dan Perguruan Tinggi. Faktor ekonomi dan akses pendidikan bisa menjadi penyebab utama.\n",
        "\t3.\tDiperlukan kebijakan untuk meningkatkan partisipasi SMA dan Perguruan Tinggi, misalnya dengan memberikan beasiswa atau meningkatkan akses ke sekolah menengah dan universitas.\n"
      ],
      "metadata": {
        "id": "vRFARUmn-kKd"
      }
    },
    {
      "cell_type": "markdown",
      "source": [
        "https://www.kaggle.com/datasets/lintangwisesa/pendidikan-indonesia-bps-20112017"
      ],
      "metadata": {
        "id": "dI_tULfDqY-e"
      }
    }
  ]
}