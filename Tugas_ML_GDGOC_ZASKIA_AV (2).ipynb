{
  "nbformat": 4,
  "nbformat_minor": 0,
  "metadata": {
    "colab": {
      "provenance": []
    },
    "kernelspec": {
      "name": "python3",
      "display_name": "Python 3"
    },
    "language_info": {
      "name": "python"
    }
  },
  "cells": [
    {
      "cell_type": "code",
      "source": [
        "import pandas as pd\n",
        "import matplotlib.pyplot as plt\n",
        "import seaborn as sns\n",
        "\n",
        "df_melek_huruf_2015 = pd.read_csv(\"Angka Melek Huruf 2015.csv\")\n",
        "df_aps_2015 = pd.read_csv(\"Angka Partisipasi Sekolah 2015.csv\")\n",
        "print(\"Angka Melek Huruf 2015:\")\n",
        "print(df_melek_huruf_2015.head())\n",
        "print(\"\\nAngka Partisipasi Sekolah 2015:\")\n",
        "print(df_aps_2015.head())\n",
        "print(\"\\nStatistik Angka Melek Huruf 2015:\")\n",
        "print(df_melek_huruf_2015.describe())\n",
        "print(\"\\nStatistik Angka Partisipasi Sekolah 2015:\")\n",
        "print(df_aps_2015.describe())\n",
        "plt.figure(figsize=(12, 6))\n",
        "df_melek_huruf_2015_sorted = df_melek_huruf_2015.sort_values(by=\"persentase\", ascending=True)\n",
        "sns.barplot(y=df_melek_huruf_2015_sorted[\"Provinsi\"], x=df_melek_huruf_2015_sorted[\"persentase\"], palette=\"viridis\")\n",
        "plt.xlabel(\"Persentase Melek Huruf (%)\")\n",
        "plt.ylabel(\"Provinsi\")\n",
        "plt.title(\"Persentase Melek Huruf di Indonesia (2015)\")\n",
        "plt.show()\n",
        "plt.figure(figsize=(14, 6))\n",
        "df_aps_2015.set_index(\"Provinsi\")[[\"SD\", \"SMP\", \"SMA\", \"PT\"]].plot(kind=\"bar\", figsize=(14, 6), colormap=\"coolwarm\")\n",
        "plt.title(\"Angka Partisipasi Sekolah di Indonesia (2015)\")\n",
        "plt.ylabel(\"Persentase\")\n",
        "plt.xlabel(\"Provinsi\")\n",
        "plt.legend(title=\"Jenjang Pendidikan\")\n",
        "plt.tight_layout()\n",
        "plt.show()\n"
      ],
      "metadata": {
        "id": "htZbQEDX-jVF"
      },
      "execution_count": null,
      "outputs": []
    },
    {
      "cell_type": "markdown",
      "source": [
        "Insight dari Visualisasi\n",
        "\t1.\tAngka Melek Huruf:\n",
        "\t•\tHampir semua provinsi memiliki tingkat melek huruf di atas 99%, menunjukkan bahwa secara nasional tingkat literasi sudah sangat tinggi.\n",
        "\t•\tVariasi antarprovinsi kecil, namun masih ada beberapa provinsi dengan angka sedikit lebih rendah dibanding yang lain.\n",
        "\t2.\tAngka Partisipasi Sekolah:\n",
        "\t•\tPartisipasi SD hampir mendekati 100% di semua provinsi, menunjukkan bahwa hampir semua anak usia SD sudah bersekolah.\n",
        "\t•\tPartisipasi SMP dan SMA mulai mengalami penurunan, dengan beberapa provinsi memiliki APS SMA di bawah 80%.\n",
        "\t•\tPartisipasi Perguruan Tinggi (PT) jauh lebih rendah dibanding jenjang lainnya, dengan angka berkisar 20-35% di berbagai provinsi.\n",
        "  \n",
        "Kesimpulan\n",
        "\t1.\tTingkat Melek Huruf di Indonesia sangat tinggi, namun perlu analisis lebih lanjut untuk mengetahui apakah ada faktor lain yang mempengaruhi kesenjangan antarprovinsi.\n",
        "\t2.\tTingkat Partisipasi Sekolah menurun seiring jenjang pendidikan yang lebih tinggi, terutama pada SMA dan Perguruan Tinggi. Faktor ekonomi dan akses pendidikan bisa menjadi penyebab utama.\n",
        "\t3.\tDiperlukan kebijakan untuk meningkatkan partisipasi SMA dan Perguruan Tinggi, misalnya dengan memberikan beasiswa atau meningkatkan akses ke sekolah menengah dan universitas.\n"
      ],
      "metadata": {
        "id": "vRFARUmn-kKd"
      }
    },
    {
      "cell_type": "markdown",
      "source": [
        "https://www.kaggle.com/datasets/lintangwisesa/pendidikan-indonesia-bps-20112017"
      ],
      "metadata": {
        "id": "dI_tULfDqY-e"
      }
    }
  ]
}